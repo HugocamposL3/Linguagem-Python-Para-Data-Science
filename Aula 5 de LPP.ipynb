{
  "nbformat": 4,
  "nbformat_minor": 0,
  "metadata": {
    "colab": {
      "name": "Aula 5 de LPP.ipynb",
      "provenance": [],
      "include_colab_link": true
    },
    "kernelspec": {
      "name": "python3",
      "display_name": "Python 3"
    },
    "language_info": {
      "name": "python"
    }
  },
  "cells": [
    {
      "cell_type": "markdown",
      "metadata": {
        "id": "view-in-github",
        "colab_type": "text"
      },
      "source": [
        "<a href=\"https://colab.research.google.com/github/HugocamposL3/Linguagem-Python-Para-Data-Science/blob/main/Aula%205%20de%20LPP.ipynb\" target=\"_parent\"><img src=\"https://colab.research.google.com/assets/colab-badge.svg\" alt=\"Open In Colab\"/></a>"
      ]
    },
    {
      "cell_type": "markdown",
      "metadata": {
        "id": "EJxvWOuGxdFY"
      },
      "source": [
        "Exemplo Aula\n"
      ]
    },
    {
      "cell_type": "code",
      "metadata": {
        "id": "Jz-jjlcZcyYL"
      },
      "source": [
        "def exibir_menu():\n",
        "  print(\"PROGRAMA CALCULADORA\")\n",
        "  print(\"Escolha sua opção!\")\n",
        "  print(\"1 - Digitar valores\")\n",
        "  print(\"2 - Realizar soma\")\n",
        "  print(\"3 - Realizar subtração\")\n",
        "  print(\"4 - Realizar divisão\")\n",
        "  print(\"5 - Realizar multiplicação\")\n",
        "  print(\"6 - Sair\")"
      ],
      "execution_count": 4,
      "outputs": []
    },
    {
      "cell_type": "code",
      "metadata": {
        "id": "a1mTd5laltCu"
      },
      "source": [
        "def exibir_resultado(resultado):\n",
        "  print(\"O resultado foi {}!\\n\\n\".format(resultado))"
      ],
      "execution_count": 5,
      "outputs": []
    },
    {
      "cell_type": "markdown",
      "metadata": {
        "id": "oz39XZqiyY6h"
      },
      "source": [
        "Funções de Operação Matemática"
      ]
    },
    {
      "cell_type": "code",
      "metadata": {
        "id": "n7VsyvN6yXlY"
      },
      "source": [
        "def somar (valor1,valor2):\n",
        "  soma = valor1 + valor2\n",
        "  return soma\n",
        "\n",
        "def subtrair (valor1,valor2):\n",
        "  subtracao = valor1 - valor2\n",
        "  return subtracao\n",
        "\n",
        "def dividir (valor1,valor2):\n",
        "  divisao = valor1 / valor2\n",
        "  return divisao\n",
        "\n",
        "def multiplicar (valor1, valor2):\n",
        "  multiplicacao = valor1*valor2\n",
        "  return multiplicacao\n",
        "\n"
      ],
      "execution_count": 6,
      "outputs": []
    },
    {
      "cell_type": "markdown",
      "metadata": {
        "id": "AAcDkpnu36BL"
      },
      "source": [
        "Função de Operações Matemáticas"
      ]
    },
    {
      "cell_type": "code",
      "metadata": {
        "id": "iWRCxArG4Af6"
      },
      "source": [
        "def operacao_mat(valor1,valor2):\n",
        "  soma = valor1 + valor2\n",
        "  subtracao = valor1 - valor2\n",
        "  divisao = valor1/valor2\n",
        "  multiplicacao = valor1*valor2\n",
        "\n",
        "  return soma,subtracao,divisao,multiplicacao"
      ],
      "execution_count": 11,
      "outputs": []
    },
    {
      "cell_type": "code",
      "metadata": {
        "colab": {
          "base_uri": "https://localhost:8080/"
        },
        "id": "Nx79623c5J3H",
        "outputId": "83fa11c7-4994-4151-dae0-700b9f875756"
      },
      "source": [
        "soma,subtração,divisão,multiplicação = operacao_mat(32,2)\n",
        "soma,subtração,divisão,multiplicação"
      ],
      "execution_count": 16,
      "outputs": [
        {
          "output_type": "execute_result",
          "data": {
            "text/plain": [
              "(34, 30, 16.0, 64)"
            ]
          },
          "metadata": {},
          "execution_count": 16
        }
      ]
    },
    {
      "cell_type": "code",
      "metadata": {
        "id": "oDOywZIOxZj-",
        "colab": {
          "base_uri": "https://localhost:8080/"
        },
        "outputId": "ff0accf0-e57c-4249-ef99-98cdfbd550c0"
      },
      "source": [
        "opcao = 0\n",
        "while opcao != 6:\n",
        "  exibir_menu()\n",
        "  opcao = int(input(\"\\nPor favor, insira sua opção:\\n\"))\n",
        "  if opcao == 1:\n",
        "\t  valor1 = float(input(\"Digite o 1º valor\"))\n",
        "\t  valor2 = float(input(\"Digite o 2º valor\"))\n",
        "\t  print(\"Os valores {} e {} foram armazenados\\n\\n\".format(valor1, valor2))\n",
        "  elif opcao == 2:\n",
        "\t  print(\"\\n\\nRealizando a soma entre {} e {}\".format(valor1, valor2))\n",
        "\t  exibir_resultado(somar(valor1,valor2))\n",
        "  elif opcao == 3:\n",
        "\t  print(\"\\n\\nRealizando a subtração entre {} e {}\".format(valor1, valor2))\n",
        "\t  exibir_resultado(subtrair(valor1,valor2))\n",
        "  elif opcao == 4:\n",
        "\t  print(\"\\n\\nRealizando a divisão entre {} e {}\".format(valor1, valor2))\n",
        "\t  exibir_resultado(dividir(valor1,valor2))\n",
        "  elif opcao == 5:\n",
        "\t  print(\"\\n\\nRealizando a multiplicação entre {} e {}\".format(valor1, valor2))\n",
        "\t  exibir_resultado(multiplicar(valor1,valor2))\n",
        "  elif opcao == 6:\n",
        "\t  print(\"Saindo do sistema...\")\n",
        "  else:\n",
        "\t  print(\"Opção inválida\")"
      ],
      "execution_count": 7,
      "outputs": [
        {
          "output_type": "stream",
          "name": "stdout",
          "text": [
            "PROGRAMA CALCULADORA\n",
            "Escolha sua opção!\n",
            "1 - Digitar valores\n",
            "2 - Realizar soma\n",
            "3 - Realizar subtração\n",
            "4 - Realizar divisão\n",
            "5 - Realizar multiplicação\n",
            "6 - Sair\n",
            "\n",
            "Por favor, insira sua opção:\n",
            "1\n",
            "Digite o 1º valor588\n",
            "Digite o 2º valor10\n",
            "Os valores 588.0 e 10.0 foram armazenados\n",
            "\n",
            "\n",
            "PROGRAMA CALCULADORA\n",
            "Escolha sua opção!\n",
            "1 - Digitar valores\n",
            "2 - Realizar soma\n",
            "3 - Realizar subtração\n",
            "4 - Realizar divisão\n",
            "5 - Realizar multiplicação\n",
            "6 - Sair\n",
            "\n",
            "Por favor, insira sua opção:\n",
            "4\n",
            "\n",
            "\n",
            "Realizando a divisão entre 588.0 e 10.0\n",
            "O resultado foi 58.8!\n",
            "\n",
            "\n",
            "PROGRAMA CALCULADORA\n",
            "Escolha sua opção!\n",
            "1 - Digitar valores\n",
            "2 - Realizar soma\n",
            "3 - Realizar subtração\n",
            "4 - Realizar divisão\n",
            "5 - Realizar multiplicação\n",
            "6 - Sair\n",
            "\n",
            "Por favor, insira sua opção:\n",
            "6\n",
            "Saindo do sistema...\n"
          ]
        }
      ]
    },
    {
      "cell_type": "code",
      "metadata": {
        "id": "T-3roLlBrRYB"
      },
      "source": [
        ""
      ],
      "execution_count": null,
      "outputs": []
    }
  ]
}