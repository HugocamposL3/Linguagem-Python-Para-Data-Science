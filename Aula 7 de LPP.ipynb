{
  "nbformat": 4,
  "nbformat_minor": 0,
  "metadata": {
    "colab": {
      "name": "Aula 7 de LPP.ipynb",
      "provenance": [],
      "authorship_tag": "ABX9TyPIqKrn1FqnOTheT78h07Q+",
      "include_colab_link": true
    },
    "kernelspec": {
      "name": "python3",
      "display_name": "Python 3"
    },
    "language_info": {
      "name": "python"
    }
  },
  "cells": [
    {
      "cell_type": "markdown",
      "metadata": {
        "id": "view-in-github",
        "colab_type": "text"
      },
      "source": [
        "<a href=\"https://colab.research.google.com/github/HugocamposL3/Linguagem-Python-Para-Data-Science/blob/main/Aula_7_de_LPP.ipynb\" target=\"_parent\"><img src=\"https://colab.research.google.com/assets/colab-badge.svg\" alt=\"Open In Colab\"/></a>"
      ]
    },
    {
      "cell_type": "markdown",
      "metadata": {
        "id": "qE4ztRHhwXXm"
      },
      "source": [
        "##Importando a Biblioteca Pandas"
      ]
    },
    {
      "cell_type": "code",
      "metadata": {
        "id": "4fbZMJxit0cg"
      },
      "source": [
        "import numpy as np\n",
        "import pandas as pd"
      ],
      "execution_count": 44,
      "outputs": []
    },
    {
      "cell_type": "code",
      "metadata": {
        "colab": {
          "base_uri": "https://localhost:8080/"
        },
        "id": "zU0oFqozwkJU",
        "outputId": "bd6a4cc1-dbf9-4bba-c928-dccd3556fd26"
      },
      "source": [
        "array_np = np.array([1,0,1])\n",
        "array_pd = pd.Series([1,0,1])\n",
        "array_pd1 = pd.Series([[1,0,1],[1,3,4]])\n",
        "print(array_np)\n",
        "print(array_pd)\n",
        "print(array_pd1)"
      ],
      "execution_count": 45,
      "outputs": [
        {
          "output_type": "stream",
          "name": "stdout",
          "text": [
            "[1 0 1]\n",
            "0    1\n",
            "1    0\n",
            "2    1\n",
            "dtype: int64\n",
            "0    [1, 0, 1]\n",
            "1    [1, 3, 4]\n",
            "dtype: object\n"
          ]
        }
      ]
    },
    {
      "cell_type": "markdown",
      "metadata": {
        "id": "PkyiTnOxzNX_"
      },
      "source": [
        "##Indice"
      ]
    },
    {
      "cell_type": "code",
      "metadata": {
        "id": "IPp1kvFSzO4u"
      },
      "source": [
        "indices = np.array(['A','B','C','D','E'])"
      ],
      "execution_count": 46,
      "outputs": []
    },
    {
      "cell_type": "code",
      "metadata": {
        "colab": {
          "base_uri": "https://localhost:8080/"
        },
        "id": "_TxQLte2zaYd",
        "outputId": "4242978e-aee4-440f-fdd8-9eea4520db76"
      },
      "source": [
        "serie = pd.Series([1,3,5,6,9],index=indices)\n",
        "print(serie)"
      ],
      "execution_count": 47,
      "outputs": [
        {
          "output_type": "stream",
          "name": "stdout",
          "text": [
            "A    1\n",
            "B    3\n",
            "C    5\n",
            "D    6\n",
            "E    9\n",
            "dtype: int64\n"
          ]
        }
      ]
    },
    {
      "cell_type": "markdown",
      "metadata": {
        "id": "3mGqsFVx-66h"
      },
      "source": [
        "##DataFrame"
      ]
    },
    {
      "cell_type": "code",
      "metadata": {
        "colab": {
          "base_uri": "https://localhost:8080/"
        },
        "id": "zSlnOIrG67vg",
        "outputId": "37d342d6-ebac-47ea-e62d-f2a35014fcd0"
      },
      "source": [
        "indice_datas = pd.date_range(\"20200101\",periods = 6, freq='D')\n",
        "print(indice_datas)"
      ],
      "execution_count": 48,
      "outputs": [
        {
          "output_type": "stream",
          "name": "stdout",
          "text": [
            "DatetimeIndex(['2020-01-01', '2020-01-02', '2020-01-03', '2020-01-04',\n",
            "               '2020-01-05', '2020-01-06'],\n",
            "              dtype='datetime64[ns]', freq='D')\n"
          ]
        }
      ]
    },
    {
      "cell_type": "code",
      "metadata": {
        "id": "uSR23q0z8Jmu"
      },
      "source": [
        "array_aleatorio = np.empty((6,4), dtype=np.int32)"
      ],
      "execution_count": 49,
      "outputs": []
    },
    {
      "cell_type": "code",
      "metadata": {
        "colab": {
          "base_uri": "https://localhost:8080/"
        },
        "id": "VFxasWYg8mi0",
        "outputId": "30b3b1ab-9fca-4710-95d3-31c279484fb6"
      },
      "source": [
        "dataframe = pd.DataFrame(array_aleatorio,index = indice_datas,columns = ['A','B','C','D'])\n",
        "print(dataframe)"
      ],
      "execution_count": 50,
      "outputs": [
        {
          "output_type": "stream",
          "name": "stdout",
          "text": [
            "            A           B  C  D\n",
            "2020-01-01  0  1072693248  0  0\n",
            "2020-01-02  0  1074790400  0  0\n",
            "2020-01-03  0  1076101120  0  0\n",
            "2020-01-04  0  1074790400  0  0\n",
            "2020-01-05  0  1074266112  0  0\n",
            "2020-01-06  0  1075314688  0  0\n"
          ]
        }
      ]
    },
    {
      "cell_type": "markdown",
      "metadata": {
        "id": "9rNGcvBq-9xn"
      },
      "source": [
        "##Dicionario com DataFrame"
      ]
    },
    {
      "cell_type": "code",
      "metadata": {
        "colab": {
          "base_uri": "https://localhost:8080/"
        },
        "id": "bjL1gsHH_EeQ",
        "outputId": "eb753e9d-1d33-4de4-a8c6-622cf3b9245e"
      },
      "source": [
        "dataframe=pd.DataFrame({\n",
        "    'A':1.0,\n",
        "    'B':pd.Timestamp(\"20200101\"),\n",
        "    'C':pd.Series([1.2, 3.7, 5.5, 6], dtype = 'float32'),\n",
        "    'D':np.array([12,3,5,9],dtype=\"int32\"),\n",
        "    \"E\":pd.Categorical(['novo','velho','velho','novo'])\n",
        "})\n",
        "print(dataframe)"
      ],
      "execution_count": 51,
      "outputs": [
        {
          "output_type": "stream",
          "name": "stdout",
          "text": [
            "     A          B    C   D      E\n",
            "0  1.0 2020-01-01  1.2  12   novo\n",
            "1  1.0 2020-01-01  3.7   3  velho\n",
            "2  1.0 2020-01-01  5.5   5  velho\n",
            "3  1.0 2020-01-01  6.0   9   novo\n"
          ]
        }
      ]
    },
    {
      "cell_type": "markdown",
      "metadata": {
        "id": "y1S5o-CjBZHi"
      },
      "source": [
        "##Visualização de DataFrame"
      ]
    },
    {
      "cell_type": "markdown",
      "metadata": {
        "id": "CyHjyazBBwka"
      },
      "source": [
        "##.head() 'Esta função retorna valores de cima para baixo'"
      ]
    },
    {
      "cell_type": "code",
      "metadata": {
        "colab": {
          "base_uri": "https://localhost:8080/",
          "height": 173
        },
        "id": "aJhcccThBcpq",
        "outputId": "23c7ff7e-6982-47ca-91d5-c54423fa275d"
      },
      "source": [
        "dataframe.head()"
      ],
      "execution_count": 52,
      "outputs": [
        {
          "output_type": "execute_result",
          "data": {
            "text/html": [
              "<div>\n",
              "<style scoped>\n",
              "    .dataframe tbody tr th:only-of-type {\n",
              "        vertical-align: middle;\n",
              "    }\n",
              "\n",
              "    .dataframe tbody tr th {\n",
              "        vertical-align: top;\n",
              "    }\n",
              "\n",
              "    .dataframe thead th {\n",
              "        text-align: right;\n",
              "    }\n",
              "</style>\n",
              "<table border=\"1\" class=\"dataframe\">\n",
              "  <thead>\n",
              "    <tr style=\"text-align: right;\">\n",
              "      <th></th>\n",
              "      <th>A</th>\n",
              "      <th>B</th>\n",
              "      <th>C</th>\n",
              "      <th>D</th>\n",
              "      <th>E</th>\n",
              "    </tr>\n",
              "  </thead>\n",
              "  <tbody>\n",
              "    <tr>\n",
              "      <th>0</th>\n",
              "      <td>1.0</td>\n",
              "      <td>2020-01-01</td>\n",
              "      <td>1.2</td>\n",
              "      <td>12</td>\n",
              "      <td>novo</td>\n",
              "    </tr>\n",
              "    <tr>\n",
              "      <th>1</th>\n",
              "      <td>1.0</td>\n",
              "      <td>2020-01-01</td>\n",
              "      <td>3.7</td>\n",
              "      <td>3</td>\n",
              "      <td>velho</td>\n",
              "    </tr>\n",
              "    <tr>\n",
              "      <th>2</th>\n",
              "      <td>1.0</td>\n",
              "      <td>2020-01-01</td>\n",
              "      <td>5.5</td>\n",
              "      <td>5</td>\n",
              "      <td>velho</td>\n",
              "    </tr>\n",
              "    <tr>\n",
              "      <th>3</th>\n",
              "      <td>1.0</td>\n",
              "      <td>2020-01-01</td>\n",
              "      <td>6.0</td>\n",
              "      <td>9</td>\n",
              "      <td>novo</td>\n",
              "    </tr>\n",
              "  </tbody>\n",
              "</table>\n",
              "</div>"
            ],
            "text/plain": [
              "     A          B    C   D      E\n",
              "0  1.0 2020-01-01  1.2  12   novo\n",
              "1  1.0 2020-01-01  3.7   3  velho\n",
              "2  1.0 2020-01-01  5.5   5  velho\n",
              "3  1.0 2020-01-01  6.0   9   novo"
            ]
          },
          "metadata": {},
          "execution_count": 52
        }
      ]
    },
    {
      "cell_type": "code",
      "metadata": {
        "colab": {
          "base_uri": "https://localhost:8080/",
          "height": 142
        },
        "id": "FrMCI3LZCIHx",
        "outputId": "8aa1c771-3741-4ba6-e4c5-428351a7e25f"
      },
      "source": [
        "dataframe.head(3)"
      ],
      "execution_count": 53,
      "outputs": [
        {
          "output_type": "execute_result",
          "data": {
            "text/html": [
              "<div>\n",
              "<style scoped>\n",
              "    .dataframe tbody tr th:only-of-type {\n",
              "        vertical-align: middle;\n",
              "    }\n",
              "\n",
              "    .dataframe tbody tr th {\n",
              "        vertical-align: top;\n",
              "    }\n",
              "\n",
              "    .dataframe thead th {\n",
              "        text-align: right;\n",
              "    }\n",
              "</style>\n",
              "<table border=\"1\" class=\"dataframe\">\n",
              "  <thead>\n",
              "    <tr style=\"text-align: right;\">\n",
              "      <th></th>\n",
              "      <th>A</th>\n",
              "      <th>B</th>\n",
              "      <th>C</th>\n",
              "      <th>D</th>\n",
              "      <th>E</th>\n",
              "    </tr>\n",
              "  </thead>\n",
              "  <tbody>\n",
              "    <tr>\n",
              "      <th>0</th>\n",
              "      <td>1.0</td>\n",
              "      <td>2020-01-01</td>\n",
              "      <td>1.2</td>\n",
              "      <td>12</td>\n",
              "      <td>novo</td>\n",
              "    </tr>\n",
              "    <tr>\n",
              "      <th>1</th>\n",
              "      <td>1.0</td>\n",
              "      <td>2020-01-01</td>\n",
              "      <td>3.7</td>\n",
              "      <td>3</td>\n",
              "      <td>velho</td>\n",
              "    </tr>\n",
              "    <tr>\n",
              "      <th>2</th>\n",
              "      <td>1.0</td>\n",
              "      <td>2020-01-01</td>\n",
              "      <td>5.5</td>\n",
              "      <td>5</td>\n",
              "      <td>velho</td>\n",
              "    </tr>\n",
              "  </tbody>\n",
              "</table>\n",
              "</div>"
            ],
            "text/plain": [
              "     A          B    C   D      E\n",
              "0  1.0 2020-01-01  1.2  12   novo\n",
              "1  1.0 2020-01-01  3.7   3  velho\n",
              "2  1.0 2020-01-01  5.5   5  velho"
            ]
          },
          "metadata": {},
          "execution_count": 53
        }
      ]
    },
    {
      "cell_type": "markdown",
      "metadata": {
        "id": "o-9TxkToBzta"
      },
      "source": [
        "##.tail() 'Esta função retorna valores debaixo para cima'"
      ]
    },
    {
      "cell_type": "code",
      "metadata": {
        "colab": {
          "base_uri": "https://localhost:8080/",
          "height": 173
        },
        "id": "-EGPfW0xB2A6",
        "outputId": "d86562b6-16d0-440e-bb67-b43781fc59c3"
      },
      "source": [
        "dataframe.tail()"
      ],
      "execution_count": 54,
      "outputs": [
        {
          "output_type": "execute_result",
          "data": {
            "text/html": [
              "<div>\n",
              "<style scoped>\n",
              "    .dataframe tbody tr th:only-of-type {\n",
              "        vertical-align: middle;\n",
              "    }\n",
              "\n",
              "    .dataframe tbody tr th {\n",
              "        vertical-align: top;\n",
              "    }\n",
              "\n",
              "    .dataframe thead th {\n",
              "        text-align: right;\n",
              "    }\n",
              "</style>\n",
              "<table border=\"1\" class=\"dataframe\">\n",
              "  <thead>\n",
              "    <tr style=\"text-align: right;\">\n",
              "      <th></th>\n",
              "      <th>A</th>\n",
              "      <th>B</th>\n",
              "      <th>C</th>\n",
              "      <th>D</th>\n",
              "      <th>E</th>\n",
              "    </tr>\n",
              "  </thead>\n",
              "  <tbody>\n",
              "    <tr>\n",
              "      <th>0</th>\n",
              "      <td>1.0</td>\n",
              "      <td>2020-01-01</td>\n",
              "      <td>1.2</td>\n",
              "      <td>12</td>\n",
              "      <td>novo</td>\n",
              "    </tr>\n",
              "    <tr>\n",
              "      <th>1</th>\n",
              "      <td>1.0</td>\n",
              "      <td>2020-01-01</td>\n",
              "      <td>3.7</td>\n",
              "      <td>3</td>\n",
              "      <td>velho</td>\n",
              "    </tr>\n",
              "    <tr>\n",
              "      <th>2</th>\n",
              "      <td>1.0</td>\n",
              "      <td>2020-01-01</td>\n",
              "      <td>5.5</td>\n",
              "      <td>5</td>\n",
              "      <td>velho</td>\n",
              "    </tr>\n",
              "    <tr>\n",
              "      <th>3</th>\n",
              "      <td>1.0</td>\n",
              "      <td>2020-01-01</td>\n",
              "      <td>6.0</td>\n",
              "      <td>9</td>\n",
              "      <td>novo</td>\n",
              "    </tr>\n",
              "  </tbody>\n",
              "</table>\n",
              "</div>"
            ],
            "text/plain": [
              "     A          B    C   D      E\n",
              "0  1.0 2020-01-01  1.2  12   novo\n",
              "1  1.0 2020-01-01  3.7   3  velho\n",
              "2  1.0 2020-01-01  5.5   5  velho\n",
              "3  1.0 2020-01-01  6.0   9   novo"
            ]
          },
          "metadata": {},
          "execution_count": 54
        }
      ]
    },
    {
      "cell_type": "code",
      "metadata": {
        "colab": {
          "base_uri": "https://localhost:8080/",
          "height": 142
        },
        "id": "5r38CLR1CJrQ",
        "outputId": "f0f0416c-64c5-4b12-f9c7-1d196a90023a"
      },
      "source": [
        "dataframe.tail(3)"
      ],
      "execution_count": 55,
      "outputs": [
        {
          "output_type": "execute_result",
          "data": {
            "text/html": [
              "<div>\n",
              "<style scoped>\n",
              "    .dataframe tbody tr th:only-of-type {\n",
              "        vertical-align: middle;\n",
              "    }\n",
              "\n",
              "    .dataframe tbody tr th {\n",
              "        vertical-align: top;\n",
              "    }\n",
              "\n",
              "    .dataframe thead th {\n",
              "        text-align: right;\n",
              "    }\n",
              "</style>\n",
              "<table border=\"1\" class=\"dataframe\">\n",
              "  <thead>\n",
              "    <tr style=\"text-align: right;\">\n",
              "      <th></th>\n",
              "      <th>A</th>\n",
              "      <th>B</th>\n",
              "      <th>C</th>\n",
              "      <th>D</th>\n",
              "      <th>E</th>\n",
              "    </tr>\n",
              "  </thead>\n",
              "  <tbody>\n",
              "    <tr>\n",
              "      <th>1</th>\n",
              "      <td>1.0</td>\n",
              "      <td>2020-01-01</td>\n",
              "      <td>3.7</td>\n",
              "      <td>3</td>\n",
              "      <td>velho</td>\n",
              "    </tr>\n",
              "    <tr>\n",
              "      <th>2</th>\n",
              "      <td>1.0</td>\n",
              "      <td>2020-01-01</td>\n",
              "      <td>5.5</td>\n",
              "      <td>5</td>\n",
              "      <td>velho</td>\n",
              "    </tr>\n",
              "    <tr>\n",
              "      <th>3</th>\n",
              "      <td>1.0</td>\n",
              "      <td>2020-01-01</td>\n",
              "      <td>6.0</td>\n",
              "      <td>9</td>\n",
              "      <td>novo</td>\n",
              "    </tr>\n",
              "  </tbody>\n",
              "</table>\n",
              "</div>"
            ],
            "text/plain": [
              "     A          B    C  D      E\n",
              "1  1.0 2020-01-01  3.7  3  velho\n",
              "2  1.0 2020-01-01  5.5  5  velho\n",
              "3  1.0 2020-01-01  6.0  9   novo"
            ]
          },
          "metadata": {},
          "execution_count": 55
        }
      ]
    },
    {
      "cell_type": "markdown",
      "metadata": {
        "id": "6bb4sZaAE1rO"
      },
      "source": [
        "##.index"
      ]
    },
    {
      "cell_type": "code",
      "metadata": {
        "colab": {
          "base_uri": "https://localhost:8080/"
        },
        "id": "Uo7XjDYeE4ir",
        "outputId": "925473ff-6b0b-44d9-ff46-c4781653b44e"
      },
      "source": [
        "dataframe.index ## Retorna o começo, final, e o passo a passo"
      ],
      "execution_count": 58,
      "outputs": [
        {
          "output_type": "execute_result",
          "data": {
            "text/plain": [
              "RangeIndex(start=0, stop=4, step=1)"
            ]
          },
          "metadata": {},
          "execution_count": 58
        }
      ]
    },
    {
      "cell_type": "markdown",
      "metadata": {
        "id": "NGxYze0SFPpS"
      },
      "source": [
        "##.Columns"
      ]
    },
    {
      "cell_type": "code",
      "metadata": {
        "colab": {
          "base_uri": "https://localhost:8080/"
        },
        "id": "js_OrWHWFS7C",
        "outputId": "13debdbe-186c-458a-f6ba-1941addfdc7e"
      },
      "source": [
        "dataframe.columns"
      ],
      "execution_count": 59,
      "outputs": [
        {
          "output_type": "execute_result",
          "data": {
            "text/plain": [
              "Index(['A', 'B', 'C', 'D', 'E'], dtype='object')"
            ]
          },
          "metadata": {},
          "execution_count": 59
        }
      ]
    },
    {
      "cell_type": "markdown",
      "metadata": {
        "id": "bN3CpI_nFXZi"
      },
      "source": [
        "##Conversão para Numpy"
      ]
    },
    {
      "cell_type": "code",
      "metadata": {
        "colab": {
          "base_uri": "https://localhost:8080/"
        },
        "id": "2OQNelYRFajy",
        "outputId": "30baf7da-33c7-4f55-f29d-3e82b82baa30"
      },
      "source": [
        "my_array = dataframe.to_numpy()\n",
        "print(my_array)"
      ],
      "execution_count": 64,
      "outputs": [
        {
          "output_type": "stream",
          "name": "stdout",
          "text": [
            "[[1.0 Timestamp('2020-01-01 00:00:00') 1.2000000476837158 12 'novo']\n",
            " [1.0 Timestamp('2020-01-01 00:00:00') 3.700000047683716 3 'velho']\n",
            " [1.0 Timestamp('2020-01-01 00:00:00') 5.5 5 'velho']\n",
            " [1.0 Timestamp('2020-01-01 00:00:00') 6.0 9 'novo']]\n"
          ]
        }
      ]
    },
    {
      "cell_type": "markdown",
      "metadata": {
        "id": "u9mAITXiGjQw"
      },
      "source": [
        "##Conversão Numpy para Pandas"
      ]
    },
    {
      "cell_type": "code",
      "metadata": {
        "colab": {
          "base_uri": "https://localhost:8080/",
          "height": 173
        },
        "id": "YUd47EziGQsz",
        "outputId": "35433e38-4411-4864-d133-6708199ed0b5"
      },
      "source": [
        "pd.DataFrame(my_array)"
      ],
      "execution_count": 66,
      "outputs": [
        {
          "output_type": "execute_result",
          "data": {
            "text/html": [
              "<div>\n",
              "<style scoped>\n",
              "    .dataframe tbody tr th:only-of-type {\n",
              "        vertical-align: middle;\n",
              "    }\n",
              "\n",
              "    .dataframe tbody tr th {\n",
              "        vertical-align: top;\n",
              "    }\n",
              "\n",
              "    .dataframe thead th {\n",
              "        text-align: right;\n",
              "    }\n",
              "</style>\n",
              "<table border=\"1\" class=\"dataframe\">\n",
              "  <thead>\n",
              "    <tr style=\"text-align: right;\">\n",
              "      <th></th>\n",
              "      <th>0</th>\n",
              "      <th>1</th>\n",
              "      <th>2</th>\n",
              "      <th>3</th>\n",
              "      <th>4</th>\n",
              "    </tr>\n",
              "  </thead>\n",
              "  <tbody>\n",
              "    <tr>\n",
              "      <th>0</th>\n",
              "      <td>1</td>\n",
              "      <td>2020-01-01</td>\n",
              "      <td>1.2</td>\n",
              "      <td>12</td>\n",
              "      <td>novo</td>\n",
              "    </tr>\n",
              "    <tr>\n",
              "      <th>1</th>\n",
              "      <td>1</td>\n",
              "      <td>2020-01-01</td>\n",
              "      <td>3.7</td>\n",
              "      <td>3</td>\n",
              "      <td>velho</td>\n",
              "    </tr>\n",
              "    <tr>\n",
              "      <th>2</th>\n",
              "      <td>1</td>\n",
              "      <td>2020-01-01</td>\n",
              "      <td>5.5</td>\n",
              "      <td>5</td>\n",
              "      <td>velho</td>\n",
              "    </tr>\n",
              "    <tr>\n",
              "      <th>3</th>\n",
              "      <td>1</td>\n",
              "      <td>2020-01-01</td>\n",
              "      <td>6</td>\n",
              "      <td>9</td>\n",
              "      <td>novo</td>\n",
              "    </tr>\n",
              "  </tbody>\n",
              "</table>\n",
              "</div>"
            ],
            "text/plain": [
              "   0          1    2   3      4\n",
              "0  1 2020-01-01  1.2  12   novo\n",
              "1  1 2020-01-01  3.7   3  velho\n",
              "2  1 2020-01-01  5.5   5  velho\n",
              "3  1 2020-01-01    6   9   novo"
            ]
          },
          "metadata": {},
          "execution_count": 66
        }
      ]
    },
    {
      "cell_type": "markdown",
      "metadata": {
        "id": "Vm_9iiSvGo6Q"
      },
      "source": [
        "##.describe() //Desvio Padrão"
      ]
    },
    {
      "cell_type": "code",
      "metadata": {
        "colab": {
          "base_uri": "https://localhost:8080/",
          "height": 297
        },
        "id": "ZDNzQH-9GwqX",
        "outputId": "a36ec1d1-dbee-490e-dc42-176ab5b72dc6"
      },
      "source": [
        "dataframe.describe()"
      ],
      "execution_count": 67,
      "outputs": [
        {
          "output_type": "execute_result",
          "data": {
            "text/html": [
              "<div>\n",
              "<style scoped>\n",
              "    .dataframe tbody tr th:only-of-type {\n",
              "        vertical-align: middle;\n",
              "    }\n",
              "\n",
              "    .dataframe tbody tr th {\n",
              "        vertical-align: top;\n",
              "    }\n",
              "\n",
              "    .dataframe thead th {\n",
              "        text-align: right;\n",
              "    }\n",
              "</style>\n",
              "<table border=\"1\" class=\"dataframe\">\n",
              "  <thead>\n",
              "    <tr style=\"text-align: right;\">\n",
              "      <th></th>\n",
              "      <th>A</th>\n",
              "      <th>C</th>\n",
              "      <th>D</th>\n",
              "    </tr>\n",
              "  </thead>\n",
              "  <tbody>\n",
              "    <tr>\n",
              "      <th>count</th>\n",
              "      <td>4.0</td>\n",
              "      <td>4.000000</td>\n",
              "      <td>4.000000</td>\n",
              "    </tr>\n",
              "    <tr>\n",
              "      <th>mean</th>\n",
              "      <td>1.0</td>\n",
              "      <td>4.100000</td>\n",
              "      <td>7.250000</td>\n",
              "    </tr>\n",
              "    <tr>\n",
              "      <th>std</th>\n",
              "      <td>0.0</td>\n",
              "      <td>2.171021</td>\n",
              "      <td>4.031129</td>\n",
              "    </tr>\n",
              "    <tr>\n",
              "      <th>min</th>\n",
              "      <td>1.0</td>\n",
              "      <td>1.200000</td>\n",
              "      <td>3.000000</td>\n",
              "    </tr>\n",
              "    <tr>\n",
              "      <th>25%</th>\n",
              "      <td>1.0</td>\n",
              "      <td>3.075000</td>\n",
              "      <td>4.500000</td>\n",
              "    </tr>\n",
              "    <tr>\n",
              "      <th>50%</th>\n",
              "      <td>1.0</td>\n",
              "      <td>4.600000</td>\n",
              "      <td>7.000000</td>\n",
              "    </tr>\n",
              "    <tr>\n",
              "      <th>75%</th>\n",
              "      <td>1.0</td>\n",
              "      <td>5.625000</td>\n",
              "      <td>9.750000</td>\n",
              "    </tr>\n",
              "    <tr>\n",
              "      <th>max</th>\n",
              "      <td>1.0</td>\n",
              "      <td>6.000000</td>\n",
              "      <td>12.000000</td>\n",
              "    </tr>\n",
              "  </tbody>\n",
              "</table>\n",
              "</div>"
            ],
            "text/plain": [
              "         A         C          D\n",
              "count  4.0  4.000000   4.000000\n",
              "mean   1.0  4.100000   7.250000\n",
              "std    0.0  2.171021   4.031129\n",
              "min    1.0  1.200000   3.000000\n",
              "25%    1.0  3.075000   4.500000\n",
              "50%    1.0  4.600000   7.000000\n",
              "75%    1.0  5.625000   9.750000\n",
              "max    1.0  6.000000  12.000000"
            ]
          },
          "metadata": {},
          "execution_count": 67
        }
      ]
    },
    {
      "cell_type": "markdown",
      "metadata": {
        "id": "jU3OiQN6HKcB"
      },
      "source": [
        "##.sort() // Ordena o dataframe de acordo com a coluna que você quer"
      ]
    },
    {
      "cell_type": "code",
      "metadata": {
        "colab": {
          "base_uri": "https://localhost:8080/",
          "height": 173
        },
        "id": "zv-KHrozHNFH",
        "outputId": "04f3b23e-3aa7-4d77-a5aa-7fdca26b5494"
      },
      "source": [
        "dataframe.sort_values(by='D')"
      ],
      "execution_count": 73,
      "outputs": [
        {
          "output_type": "execute_result",
          "data": {
            "text/html": [
              "<div>\n",
              "<style scoped>\n",
              "    .dataframe tbody tr th:only-of-type {\n",
              "        vertical-align: middle;\n",
              "    }\n",
              "\n",
              "    .dataframe tbody tr th {\n",
              "        vertical-align: top;\n",
              "    }\n",
              "\n",
              "    .dataframe thead th {\n",
              "        text-align: right;\n",
              "    }\n",
              "</style>\n",
              "<table border=\"1\" class=\"dataframe\">\n",
              "  <thead>\n",
              "    <tr style=\"text-align: right;\">\n",
              "      <th></th>\n",
              "      <th>A</th>\n",
              "      <th>B</th>\n",
              "      <th>C</th>\n",
              "      <th>D</th>\n",
              "      <th>E</th>\n",
              "    </tr>\n",
              "  </thead>\n",
              "  <tbody>\n",
              "    <tr>\n",
              "      <th>1</th>\n",
              "      <td>1.0</td>\n",
              "      <td>2020-01-01</td>\n",
              "      <td>3.7</td>\n",
              "      <td>3</td>\n",
              "      <td>velho</td>\n",
              "    </tr>\n",
              "    <tr>\n",
              "      <th>2</th>\n",
              "      <td>1.0</td>\n",
              "      <td>2020-01-01</td>\n",
              "      <td>5.5</td>\n",
              "      <td>5</td>\n",
              "      <td>velho</td>\n",
              "    </tr>\n",
              "    <tr>\n",
              "      <th>3</th>\n",
              "      <td>1.0</td>\n",
              "      <td>2020-01-01</td>\n",
              "      <td>6.0</td>\n",
              "      <td>9</td>\n",
              "      <td>novo</td>\n",
              "    </tr>\n",
              "    <tr>\n",
              "      <th>0</th>\n",
              "      <td>1.0</td>\n",
              "      <td>2020-01-01</td>\n",
              "      <td>1.2</td>\n",
              "      <td>12</td>\n",
              "      <td>novo</td>\n",
              "    </tr>\n",
              "  </tbody>\n",
              "</table>\n",
              "</div>"
            ],
            "text/plain": [
              "     A          B    C   D      E\n",
              "1  1.0 2020-01-01  3.7   3  velho\n",
              "2  1.0 2020-01-01  5.5   5  velho\n",
              "3  1.0 2020-01-01  6.0   9   novo\n",
              "0  1.0 2020-01-01  1.2  12   novo"
            ]
          },
          "metadata": {},
          "execution_count": 73
        }
      ]
    }
  ]
}
