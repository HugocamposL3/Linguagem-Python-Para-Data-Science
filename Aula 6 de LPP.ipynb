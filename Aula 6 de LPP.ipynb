{
  "nbformat": 4,
  "nbformat_minor": 0,
  "metadata": {
    "colab": {
      "name": "Aula 6 de LPP.ipynb",
      "provenance": [],
      "authorship_tag": "ABX9TyNNaQ2798QDW+ZX34ECY+vK",
      "include_colab_link": true
    },
    "kernelspec": {
      "name": "python3",
      "display_name": "Python 3"
    },
    "language_info": {
      "name": "python"
    }
  },
  "cells": [
    {
      "cell_type": "markdown",
      "metadata": {
        "id": "view-in-github",
        "colab_type": "text"
      },
      "source": [
        "<a href=\"https://colab.research.google.com/github/HugocamposL3/Linguagem-Python-Para-Data-Science/blob/main/Aula%206%20de%20LPP.ipynb\" target=\"_parent\"><img src=\"https://colab.research.google.com/assets/colab-badge.svg\" alt=\"Open In Colab\"/></a>"
      ]
    },
    {
      "cell_type": "markdown",
      "metadata": {
        "id": "YhEeaL-ogoV5"
      },
      "source": [
        "##Aula 06 importação de biblioteca"
      ]
    },
    {
      "cell_type": "markdown",
      "metadata": {
        "id": "nrZ6RINRfFAV"
      },
      "source": [
        "\n",
        "## Exemplo 1"
      ]
    },
    {
      "cell_type": "code",
      "metadata": {
        "id": "SOww44gufJWk"
      },
      "source": [
        "#Importação da Biblioteca\n",
        "import numpy as np ## Importei a biblioteca e dei nomenclatura como 'np'"
      ],
      "execution_count": 2,
      "outputs": []
    },
    {
      "cell_type": "code",
      "metadata": {
        "colab": {
          "base_uri": "https://localhost:8080/"
        },
        "id": "lDGbE3Oqf8Lq",
        "outputId": "ba437e7f-d6b3-4da3-84a3-0975102a03f5"
      },
      "source": [
        "novo_array = np.array([[1,2,3],[4,5,6]]) # Para criar uma matriz com 2 vetores e 2 dimensões\n",
        "print(\"abaixo está o seu array\")\n",
        "print(novo_array)"
      ],
      "execution_count": 3,
      "outputs": [
        {
          "output_type": "stream",
          "name": "stdout",
          "text": [
            "abaixo está o seu array\n",
            "[[1 2 3]\n",
            " [4 5 6]]\n"
          ]
        }
      ]
    },
    {
      "cell_type": "markdown",
      "metadata": {
        "id": "cgBAzhYDjUW9"
      },
      "source": [
        "##Ndim"
      ]
    },
    {
      "cell_type": "code",
      "metadata": {
        "colab": {
          "base_uri": "https://localhost:8080/"
        },
        "id": "gtybovH2iNjG",
        "outputId": "f8c2fd83-241d-4f47-8bbd-fa8ac2c3425e"
      },
      "source": [
        "print(f\"Esse é um ndarray com {novo_array.ndim} dimensões\")"
      ],
      "execution_count": 4,
      "outputs": [
        {
          "output_type": "stream",
          "name": "stdout",
          "text": [
            "Esse é um ndarray com 2 dimensões\n"
          ]
        }
      ]
    },
    {
      "cell_type": "markdown",
      "metadata": {
        "id": "gJaEORVrjWnU"
      },
      "source": [
        "##Shape"
      ]
    },
    {
      "cell_type": "code",
      "metadata": {
        "colab": {
          "base_uri": "https://localhost:8080/"
        },
        "id": "eiPmlILejg4z",
        "outputId": "8fab3ede-751b-4364-df1f-14f6b46a7e2f"
      },
      "source": [
        "print(f\"As dimensões desse ndarray possuem os seguintes tamanhos: {novo_array.shape}\") # Para saber o tamanho do meu array \n",
        "print(f\"Esse ndarray tem: {novo_array.shape[0]} Linhas e {novo_array.shape[1]} Colunas\") # Para selecionar uma parte dessa tupla que o .shape vai me mostrar "
      ],
      "execution_count": 5,
      "outputs": [
        {
          "output_type": "stream",
          "name": "stdout",
          "text": [
            "As dimensões desse ndarray possuem os seguintes tamanhos: (2, 3)\n",
            "Esse ndarray tem: 2 Linhas e 3 Colunas\n"
          ]
        }
      ]
    },
    {
      "cell_type": "markdown",
      "metadata": {
        "id": "NWeOxVFwl25b"
      },
      "source": [
        "##Size"
      ]
    },
    {
      "cell_type": "code",
      "metadata": {
        "colab": {
          "base_uri": "https://localhost:8080/"
        },
        "id": "8crPjiOdlq-F",
        "outputId": "3483bf78-8545-46e1-e709-39a3cfc261fb"
      },
      "source": [
        "print(f\"Ao todo, esse ndarray contem {novo_array.size} elementos\") # Quantidade de elementos que você vai ter no seu array"
      ],
      "execution_count": 6,
      "outputs": [
        {
          "output_type": "stream",
          "name": "stdout",
          "text": [
            "Ao todo, esse ndarray contem 6 elementos\n"
          ]
        }
      ]
    },
    {
      "cell_type": "markdown",
      "metadata": {
        "id": "cJk3q5W6mhQq"
      },
      "source": [
        "##dtype"
      ]
    },
    {
      "cell_type": "code",
      "metadata": {
        "colab": {
          "base_uri": "https://localhost:8080/"
        },
        "id": "49cT-pHKmx8d",
        "outputId": "221b7045-9075-4fb0-c3c5-cf188476af7b"
      },
      "source": [
        "print(f\"Os elementos presentes nesse ndarray: {novo_array.dtype}\") # \"int64\" é um inteiro com 64 bits"
      ],
      "execution_count": 7,
      "outputs": [
        {
          "output_type": "stream",
          "name": "stdout",
          "text": [
            "Os elementos presentes nesse ndarray: int64\n"
          ]
        }
      ]
    },
    {
      "cell_type": "markdown",
      "metadata": {
        "id": "YOCKeHbFoBJ7"
      },
      "source": [
        "## itemsize"
      ]
    },
    {
      "cell_type": "code",
      "metadata": {
        "colab": {
          "base_uri": "https://localhost:8080/"
        },
        "id": "PTCZ1E8goOLq",
        "outputId": "2d027a55-9adc-485f-ee41-0bd8d0d0cd60"
      },
      "source": [
        "print(f\"Os elementos presentes nesse array ocupam {novo_array.itemsize} bytes\")"
      ],
      "execution_count": 8,
      "outputs": [
        {
          "output_type": "stream",
          "name": "stdout",
          "text": [
            "Os elementos presentes nesse array ocupam 8 bytes\n"
          ]
        }
      ]
    },
    {
      "cell_type": "markdown",
      "metadata": {
        "id": "tJaJ0Cthq0ng"
      },
      "source": [
        "## Exemplo 2"
      ]
    },
    {
      "cell_type": "markdown",
      "metadata": {
        "id": "67RtkvXxq3wG"
      },
      "source": [
        "##Convertendo um tupla para array "
      ]
    },
    {
      "cell_type": "code",
      "metadata": {
        "colab": {
          "base_uri": "https://localhost:8080/"
        },
        "id": "jdGuNqLtrI1g",
        "outputId": "47ece9cf-d227-4f89-82ad-c21eb0aa7b49"
      },
      "source": [
        "array_tuplas = np.array([(1,2,3),(4,5,6)])\n",
        "print(f\"A nosso array de tuplas é composta por \\n{array_tuplas}\") ## Isso é importante para que ninguém mude os valores iniciais do seu array."
      ],
      "execution_count": 9,
      "outputs": [
        {
          "output_type": "stream",
          "name": "stdout",
          "text": [
            "A nosso array de tuplas é composta por \n",
            "[[1 2 3]\n",
            " [4 5 6]]\n"
          ]
        }
      ]
    },
    {
      "cell_type": "code",
      "metadata": {
        "colab": {
          "base_uri": "https://localhost:8080/"
        },
        "id": "1pJLbNu6sgkK",
        "outputId": "e59c513b-c683-4f5f-873c-d92491a1f43c"
      },
      "source": [
        "array_lista = np.array([[1,2,3], [4,5,6]])\n",
        "print(f\"a nossa array de lista é composta por \\n {array_lista}\")"
      ],
      "execution_count": 10,
      "outputs": [
        {
          "output_type": "stream",
          "name": "stdout",
          "text": [
            "a nossa array de lista é composta por \n",
            " [[1 2 3]\n",
            " [4 5 6]]\n"
          ]
        }
      ]
    },
    {
      "cell_type": "markdown",
      "metadata": {
        "id": "GKV1jJT-uAax"
      },
      "source": [
        "## Exemplo 3"
      ]
    },
    {
      "cell_type": "markdown",
      "metadata": {
        "id": "uPGsXYVWuaAB"
      },
      "source": [
        "##np.zeros"
      ]
    },
    {
      "cell_type": "code",
      "metadata": {
        "colab": {
          "base_uri": "https://localhost:8080/"
        },
        "id": "oblZkba0ubkW",
        "outputId": "67a315b7-e241-48cf-96dc-0a10bdbcf2fe"
      },
      "source": [
        "array_zerado = np.zeros((3,4)) ## Para criar um array somente com zeros com 3 linhas e 4 colunas\n",
        "print(f\"Este é minha matriz de zeros \\n {array_zerado}\")\n",
        "print(f\"O tipo da minha matriz é: {array_zerado.dtype}\")"
      ],
      "execution_count": 11,
      "outputs": [
        {
          "output_type": "stream",
          "name": "stdout",
          "text": [
            "Este é minha matriz de zeros \n",
            " [[0. 0. 0. 0.]\n",
            " [0. 0. 0. 0.]\n",
            " [0. 0. 0. 0.]]\n",
            "O tipo da minha matriz é: float64\n"
          ]
        }
      ]
    },
    {
      "cell_type": "markdown",
      "metadata": {
        "id": "qEANvZZPwuUj"
      },
      "source": [
        "##np.ones"
      ]
    },
    {
      "cell_type": "code",
      "metadata": {
        "colab": {
          "base_uri": "https://localhost:8080/"
        },
        "id": "NrSmYsMyw26D",
        "outputId": "03222bd3-d20f-480f-c2ae-62c00261d5fe"
      },
      "source": [
        "array_de_uns = np.ones((5,2),dtype = np.int32) ## Tranformando float para int\n",
        "print(f\"Esta é minha matriz de uns \\n {array_de_uns}\")\n",
        "print(f\"O tipo da minha matriz é: {array_de_uns.dtype}\")"
      ],
      "execution_count": 12,
      "outputs": [
        {
          "output_type": "stream",
          "name": "stdout",
          "text": [
            "Esta é minha matriz de uns \n",
            " [[1 1]\n",
            " [1 1]\n",
            " [1 1]\n",
            " [1 1]\n",
            " [1 1]]\n",
            "O tipo da minha matriz é: int32\n"
          ]
        }
      ]
    },
    {
      "cell_type": "markdown",
      "metadata": {
        "id": "xPnn652p7w2u"
      },
      "source": [
        "##np.empty"
      ]
    },
    {
      "cell_type": "code",
      "metadata": {
        "colab": {
          "base_uri": "https://localhost:8080/"
        },
        "id": "9NfriOmQ7qGf",
        "outputId": "8468eadd-d258-4a24-d5ee-70fb7c1cfb59"
      },
      "source": [
        "array_aleatorio = np.empty((6,3), dtype = np.int16) ## Para criar uma matriz com valores aleatórios, aproximados ao vazio. \n",
        "print(f\"Este é a minha matriz aleatória \\n {array_aleatorio}\")"
      ],
      "execution_count": 13,
      "outputs": [
        {
          "output_type": "stream",
          "name": "stdout",
          "text": [
            "Este é a minha matriz aleatória \n",
            " [[-17760  -8302  21857]\n",
            " [     0      0      0]\n",
            " [     0      0      0]\n",
            " [     0      0      0]\n",
            " [     0      0      0]\n",
            " [     0      0      0]]\n"
          ]
        }
      ]
    },
    {
      "cell_type": "markdown",
      "metadata": {
        "id": "TUn3hTa_ANQu"
      },
      "source": [
        "##np.arange"
      ]
    },
    {
      "cell_type": "code",
      "metadata": {
        "colab": {
          "base_uri": "https://localhost:8080/"
        },
        "id": "WSHjweCpARWG",
        "outputId": "ebb527e8-5f3b-47a0-fb6f-1acfa8611187"
      },
      "source": [
        "array_gerado = np.arange(5,100,10) ## vai criar uma matriz a partir de 5 até 100 em 2 e 2. (começo,fim,intervalo)\n",
        "print(f\"O array gerado é \\n {array_gerado}\")"
      ],
      "execution_count": 14,
      "outputs": [
        {
          "output_type": "stream",
          "name": "stdout",
          "text": [
            "O array gerado é \n",
            " [ 5 15 25 35 45 55 65 75 85 95]\n"
          ]
        }
      ]
    },
    {
      "cell_type": "code",
      "metadata": {
        "id": "MdJw8NuHBsHT",
        "colab": {
          "base_uri": "https://localhost:8080/"
        },
        "outputId": "a4085936-e31a-4076-a947-78d1fd085e41"
      },
      "source": [
        "x = np.random.randint(100) ## Vai gerar um valor inteiro aleatório até 100 \n",
        "print(x) ## é preciso printar o valor de X para que seja colocado no arange\n",
        "array_gerado = np.arange(0,4,1).reshape(4,1) ## vai criar uma matriz a partir de 5 até o valor que foi colocado em \"X\" em 2 e 2. (começo,fim,intervalo)\n",
        "print(f\"O array gerado é \\n {array_gerado}\")"
      ],
      "execution_count": 15,
      "outputs": [
        {
          "output_type": "stream",
          "name": "stdout",
          "text": [
            "89\n",
            "O array gerado é \n",
            " [[0]\n",
            " [1]\n",
            " [2]\n",
            " [3]]\n"
          ]
        }
      ]
    },
    {
      "cell_type": "markdown",
      "metadata": {
        "id": "jgg5HvHfHBPR"
      },
      "source": [
        "## Exemplo 4\n"
      ]
    },
    {
      "cell_type": "markdown",
      "metadata": {
        "id": "zJGWX5dyOZfo"
      },
      "source": [
        "##Operações com Arrays"
      ]
    },
    {
      "cell_type": "code",
      "metadata": {
        "colab": {
          "base_uri": "https://localhost:8080/"
        },
        "id": "5x2dWUnTHGNx",
        "outputId": "e7051f9f-1de1-49e8-f70c-30a8d009684a"
      },
      "source": [
        "##Subtração\n",
        "array_inicial = np.array ([[499.50, 25.00, 35.48],[350.15, 30.12, 17.3]])\n",
        "array_resultado = array_inicial - 2\n",
        "print(\"O ndarray resultado após a operação de subtração é:\")\n",
        "print(array_resultado)\n"
      ],
      "execution_count": 16,
      "outputs": [
        {
          "output_type": "stream",
          "name": "stdout",
          "text": [
            "O ndarray resultado após a operação de subtração é:\n",
            "[[497.5   23.    33.48]\n",
            " [348.15  28.12  15.3 ]]\n"
          ]
        }
      ]
    },
    {
      "cell_type": "code",
      "metadata": {
        "colab": {
          "base_uri": "https://localhost:8080/"
        },
        "id": "lyf4i2G9RYxQ",
        "outputId": "4a7052a9-3918-4180-cd4e-7b97ad35475c"
      },
      "source": [
        "## Multiplicação\n",
        "array_resultado = array_inicial * 2\n",
        "print(\"O ndarray resultado após a operação da Multiplicação é:\")\n",
        "print(array_resultado)"
      ],
      "execution_count": 17,
      "outputs": [
        {
          "output_type": "stream",
          "name": "stdout",
          "text": [
            "O ndarray resultado após a operação da Multiplicação é:\n",
            "[[999.    50.    70.96]\n",
            " [700.3   60.24  34.6 ]]\n"
          ]
        }
      ]
    },
    {
      "cell_type": "code",
      "metadata": {
        "colab": {
          "base_uri": "https://localhost:8080/"
        },
        "id": "sps2QvssciGg",
        "outputId": "e324412d-d3ad-4c98-e4b3-ca4df1e2ee9b"
      },
      "source": [
        "##Exponenciação\n",
        "array_resultado = array_inicial ** 2\n",
        "print(\"O ndarray resultado após a operação da Exponenciação é:\")\n",
        "print(array_resultado)"
      ],
      "execution_count": 18,
      "outputs": [
        {
          "output_type": "stream",
          "name": "stdout",
          "text": [
            "O ndarray resultado após a operação da Exponenciação é:\n",
            "[[249500.25      625.       1258.8304]\n",
            " [122605.0225    907.2144    299.29  ]]\n"
          ]
        }
      ]
    },
    {
      "cell_type": "code",
      "metadata": {
        "colab": {
          "base_uri": "https://localhost:8080/"
        },
        "id": "ZKwq6zFonKgh",
        "outputId": "9c19d242-4063-44da-baf9-45129ff48267"
      },
      "source": [
        "##Comparação de Valores\n",
        "array_resultado = array_inicial > 10\n",
        "print(\"O ndarray resultado após a operação da Exponenciação é:\")\n",
        "print(array_resultado)"
      ],
      "execution_count": 19,
      "outputs": [
        {
          "output_type": "stream",
          "name": "stdout",
          "text": [
            "O ndarray resultado após a operação da Exponenciação é:\n",
            "[[ True  True  True]\n",
            " [ True  True  True]]\n"
          ]
        }
      ]
    },
    {
      "cell_type": "code",
      "metadata": {
        "id": "5eMvGWgsoPit"
      },
      "source": [
        "##Operação entre Vetores\n",
        "array_a = np.array([1,2])\n",
        "array_b = np.array([3,5])"
      ],
      "execution_count": 33,
      "outputs": []
    },
    {
      "cell_type": "code",
      "metadata": {
        "colab": {
          "base_uri": "https://localhost:8080/"
        },
        "id": "IUjltyJ4oeE4",
        "outputId": "918475fb-b59e-4514-a558-34bfd832e777"
      },
      "source": [
        "##Soma\n",
        "soma = array_a + array_b\n",
        "print(soma)"
      ],
      "execution_count": 27,
      "outputs": [
        {
          "output_type": "stream",
          "name": "stdout",
          "text": [
            "[4 7]\n"
          ]
        }
      ]
    },
    {
      "cell_type": "code",
      "metadata": {
        "colab": {
          "base_uri": "https://localhost:8080/"
        },
        "id": "OoikgNJFpDBE",
        "outputId": "7c00b647-a8a8-4ae5-eb25-0d265d291c05"
      },
      "source": [
        "##Multiplicação\n",
        "multiplicacao = array_a * array_b\n",
        "print(multiplicacao)"
      ],
      "execution_count": 28,
      "outputs": [
        {
          "output_type": "stream",
          "name": "stdout",
          "text": [
            "[ 3 10]\n"
          ]
        }
      ]
    },
    {
      "cell_type": "code",
      "metadata": {
        "colab": {
          "base_uri": "https://localhost:8080/"
        },
        "id": "dBNJo56YpPEB",
        "outputId": "843c1550-0642-4b83-91cf-f4cf2f69ddd3"
      },
      "source": [
        "## Multiplicação de Vetores\n",
        "multiplicacao = array_a @ array_b\n",
        "print(multiplicacao)"
      ],
      "execution_count": 29,
      "outputs": [
        {
          "output_type": "stream",
          "name": "stdout",
          "text": [
            "13\n"
          ]
        }
      ]
    },
    {
      "cell_type": "markdown",
      "metadata": {
        "id": "qeTokXVxruGc"
      },
      "source": [
        "##.Sum()"
      ]
    },
    {
      "cell_type": "code",
      "metadata": {
        "colab": {
          "base_uri": "https://localhost:8080/"
        },
        "id": "D5IGlTYqqsVP",
        "outputId": "d4139fca-7dfd-4311-b4c3-62e1ee612812"
      },
      "source": [
        "##Soma dos elementos internos\n",
        "array_a.sum() ## ou sum(array_a) para soma de todos os elementos\n",
        "array_a.sum(axis=0)"
      ],
      "execution_count": 38,
      "outputs": [
        {
          "output_type": "execute_result",
          "data": {
            "text/plain": [
              "17"
            ]
          },
          "metadata": {},
          "execution_count": 38
        }
      ]
    },
    {
      "cell_type": "markdown",
      "metadata": {
        "id": "LQMJYp7grrAQ"
      },
      "source": [
        "##.Min()"
      ]
    },
    {
      "cell_type": "code",
      "metadata": {
        "id": "Ni8MFMQwrPZg"
      },
      "source": [
        "##Menor elemento o vetor\n",
        "array_b.min()\n"
      ],
      "execution_count": null,
      "outputs": []
    },
    {
      "cell_type": "markdown",
      "metadata": {
        "id": "OtoDP-HFrm1W"
      },
      "source": [
        "##.Max()"
      ]
    },
    {
      "cell_type": "code",
      "metadata": {
        "colab": {
          "base_uri": "https://localhost:8080/"
        },
        "id": "0KTpzPDorgg9",
        "outputId": "8451062e-cb2a-48d9-b950-61afa985e3f4"
      },
      "source": [
        "##Maior elemento o vetor\n",
        "array_b.max()"
      ],
      "execution_count": 37,
      "outputs": [
        {
          "output_type": "execute_result",
          "data": {
            "text/plain": [
              "5"
            ]
          },
          "metadata": {},
          "execution_count": 37
        }
      ]
    }
  ]
}