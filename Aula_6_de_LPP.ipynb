{
  "nbformat": 4,
  "nbformat_minor": 0,
  "metadata": {
    "colab": {
      "name": "Aula 6 de LPP.ipynb",
      "provenance": [],
      "authorship_tag": "ABX9TyMaEv1ZU5m2aH04BLKRKCeo",
      "include_colab_link": true
    },
    "kernelspec": {
      "name": "python3",
      "display_name": "Python 3"
    },
    "language_info": {
      "name": "python"
    }
  },
  "cells": [
    {
      "cell_type": "markdown",
      "metadata": {
        "id": "view-in-github",
        "colab_type": "text"
      },
      "source": [
        "<a href=\"https://colab.research.google.com/github/HugocamposL3/Linguagem-Python-Para-Data-Science/blob/main/Aula_6_de_LPP.ipynb\" target=\"_parent\"><img src=\"https://colab.research.google.com/assets/colab-badge.svg\" alt=\"Open In Colab\"/></a>"
      ]
    },
    {
      "cell_type": "markdown",
      "metadata": {
        "id": "YhEeaL-ogoV5"
      },
      "source": [
        "##Aula 06 importação de biblioteca"
      ]
    },
    {
      "cell_type": "markdown",
      "metadata": {
        "id": "nrZ6RINRfFAV"
      },
      "source": [
        "\n",
        "## Exemplo 1"
      ]
    },
    {
      "cell_type": "code",
      "metadata": {
        "id": "SOww44gufJWk"
      },
      "source": [
        "#Importação da Biblioteca\n",
        "import numpy as np ## Importei a biblioteca e dei nomenclatura como 'np'"
      ],
      "execution_count": null,
      "outputs": []
    },
    {
      "cell_type": "code",
      "metadata": {
        "colab": {
          "base_uri": "https://localhost:8080/"
        },
        "id": "lDGbE3Oqf8Lq",
        "outputId": "e9564f29-f50b-4c49-e59a-835278b11f9a"
      },
      "source": [
        "novo_array = np.array([[1,2,3],[4,5,6]]) # Para criar uma matriz com 2 vetores e 2 dimensões\n",
        "print(\"abaixo está o seu array\")\n",
        "print(novo_array)"
      ],
      "execution_count": null,
      "outputs": [
        {
          "output_type": "stream",
          "name": "stdout",
          "text": [
            "abaixo está o seu array\n",
            "[[1 2 3]\n",
            " [4 5 6]]\n"
          ]
        }
      ]
    },
    {
      "cell_type": "markdown",
      "metadata": {
        "id": "cgBAzhYDjUW9"
      },
      "source": [
        "##Ndim"
      ]
    },
    {
      "cell_type": "code",
      "metadata": {
        "colab": {
          "base_uri": "https://localhost:8080/"
        },
        "id": "gtybovH2iNjG",
        "outputId": "4d457f34-6166-4c55-e021-499d102de196"
      },
      "source": [
        "print(f\"Esse é um ndarray com {novo_array.ndim} dimensões\")"
      ],
      "execution_count": null,
      "outputs": [
        {
          "output_type": "stream",
          "name": "stdout",
          "text": [
            "Esse é um ndarray com 2 dimensões\n"
          ]
        }
      ]
    },
    {
      "cell_type": "markdown",
      "metadata": {
        "id": "gJaEORVrjWnU"
      },
      "source": [
        "##Shape"
      ]
    },
    {
      "cell_type": "code",
      "metadata": {
        "colab": {
          "base_uri": "https://localhost:8080/"
        },
        "id": "eiPmlILejg4z",
        "outputId": "16390994-aba1-4a9a-ecf6-95ab25a88f9f"
      },
      "source": [
        "print(f\"As dimensões desse ndarray possuem os seguintes tamanhos: {novo_array.shape}\") # Para saber o tamanho do meu array \n",
        "print(f\"Esse ndarray tem: {novo_array.shape[0]} Linhas e {novo_array.shape[1]} Colunas\") # Para selecionar uma parte dessa tupla que o .shape vai me mostrar "
      ],
      "execution_count": null,
      "outputs": [
        {
          "output_type": "stream",
          "name": "stdout",
          "text": [
            "As dimensões desse ndarray possuem os seguintes tamanhos: (2, 3)\n",
            "Esse ndarray tem: 2 Linhas e 3 Colunas\n"
          ]
        }
      ]
    },
    {
      "cell_type": "markdown",
      "metadata": {
        "id": "NWeOxVFwl25b"
      },
      "source": [
        "##Size"
      ]
    },
    {
      "cell_type": "code",
      "metadata": {
        "colab": {
          "base_uri": "https://localhost:8080/"
        },
        "id": "8crPjiOdlq-F",
        "outputId": "06ed1963-a86f-4860-c136-32a0f9ea165f"
      },
      "source": [
        "print(f\"Ao todo, esse ndarray contem {novo_array.size} elementos\") # Quantidade de elementos que você vai ter no seu array"
      ],
      "execution_count": null,
      "outputs": [
        {
          "output_type": "stream",
          "name": "stdout",
          "text": [
            "Ao todo, esse ndarray contem 6 elementos\n"
          ]
        }
      ]
    },
    {
      "cell_type": "markdown",
      "metadata": {
        "id": "cJk3q5W6mhQq"
      },
      "source": [
        "##dtype"
      ]
    },
    {
      "cell_type": "code",
      "metadata": {
        "colab": {
          "base_uri": "https://localhost:8080/"
        },
        "id": "49cT-pHKmx8d",
        "outputId": "cd10a343-d539-4eb3-bc32-1db247f15a64"
      },
      "source": [
        "print(f\"Os elementos presentes nesse ndarray: {novo_array.dtype}\") # \"int64\" é um inteiro com 64 bits"
      ],
      "execution_count": null,
      "outputs": [
        {
          "output_type": "stream",
          "name": "stdout",
          "text": [
            "Os elementos presentes nesse ndarray: int64\n"
          ]
        }
      ]
    },
    {
      "cell_type": "markdown",
      "metadata": {
        "id": "YOCKeHbFoBJ7"
      },
      "source": [
        "## itemsize"
      ]
    },
    {
      "cell_type": "code",
      "metadata": {
        "colab": {
          "base_uri": "https://localhost:8080/"
        },
        "id": "PTCZ1E8goOLq",
        "outputId": "a56801b1-1037-4d5f-f55f-733e827d9115"
      },
      "source": [
        "print(f\"Os elementos presentes nesse array ocupam {novo_array.itemsize} bytes\")"
      ],
      "execution_count": null,
      "outputs": [
        {
          "output_type": "stream",
          "name": "stdout",
          "text": [
            "Os elementos presentes nesse array ocupam 8 bytes\n"
          ]
        }
      ]
    },
    {
      "cell_type": "markdown",
      "metadata": {
        "id": "tJaJ0Cthq0ng"
      },
      "source": [
        "## Exemplo 2"
      ]
    },
    {
      "cell_type": "markdown",
      "metadata": {
        "id": "67RtkvXxq3wG"
      },
      "source": [
        "##Convertendo um tupla para array "
      ]
    },
    {
      "cell_type": "code",
      "metadata": {
        "colab": {
          "base_uri": "https://localhost:8080/"
        },
        "id": "jdGuNqLtrI1g",
        "outputId": "7066fce1-2c1e-4b58-9e24-9c64495684e2"
      },
      "source": [
        "array_tuplas = np.array([(1,2,3),(4,5,6)])\n",
        "print(f\"A nosso array de tuplas é composta por \\n{array_tuplas}\") ## Isso é importante para que ninguém mude os valores iniciais do seu array."
      ],
      "execution_count": null,
      "outputs": [
        {
          "output_type": "stream",
          "name": "stdout",
          "text": [
            "A nosso array de tuplas é composta por \n",
            "[[1 2 3]\n",
            " [4 5 6]]\n"
          ]
        }
      ]
    },
    {
      "cell_type": "code",
      "metadata": {
        "colab": {
          "base_uri": "https://localhost:8080/"
        },
        "id": "1pJLbNu6sgkK",
        "outputId": "1f15ca94-b43a-4004-d7bc-3f1e2f67c321"
      },
      "source": [
        "array_lista = np.array([[1,2,3], [4,5,6]])\n",
        "print(f\"a nossa array de lista é composta por \\n {array_lista}\")"
      ],
      "execution_count": null,
      "outputs": [
        {
          "output_type": "stream",
          "name": "stdout",
          "text": [
            "a nossa array de lista é composta por \n",
            " [[1 2 3]\n",
            " [4 5 6]]\n"
          ]
        }
      ]
    },
    {
      "cell_type": "markdown",
      "metadata": {
        "id": "GKV1jJT-uAax"
      },
      "source": [
        "## Exemplo 3"
      ]
    },
    {
      "cell_type": "markdown",
      "metadata": {
        "id": "uPGsXYVWuaAB"
      },
      "source": [
        "##np.zeros"
      ]
    },
    {
      "cell_type": "code",
      "metadata": {
        "colab": {
          "base_uri": "https://localhost:8080/"
        },
        "id": "oblZkba0ubkW",
        "outputId": "183617b7-1050-4ad6-d3bc-f7414c0d4ae0"
      },
      "source": [
        "array_zerado = np.zeros((3,4)) ## Para criar um array somente com zeros com 3 linhas e 4 colunas\n",
        "print(f\"Este é minha matriz de zeros \\n {array_zerado}\")\n",
        "print(f\"O tipo da minha matriz é: {array_zerado.dtype}\")"
      ],
      "execution_count": null,
      "outputs": [
        {
          "output_type": "stream",
          "name": "stdout",
          "text": [
            "Este é minha matriz de zeros \n",
            " [[0. 0. 0. 0.]\n",
            " [0. 0. 0. 0.]\n",
            " [0. 0. 0. 0.]]\n",
            "O tipo da minha matriz é: float64\n"
          ]
        }
      ]
    },
    {
      "cell_type": "markdown",
      "metadata": {
        "id": "qEANvZZPwuUj"
      },
      "source": [
        "##np.ones"
      ]
    },
    {
      "cell_type": "code",
      "metadata": {
        "colab": {
          "base_uri": "https://localhost:8080/"
        },
        "id": "NrSmYsMyw26D",
        "outputId": "927848bd-ac4b-4838-bb47-173c3bde863c"
      },
      "source": [
        "array_de_uns = np.ones((5,2),dtype = np.int32) ## Tranformando float para int\n",
        "print(f\"Esta é minha matriz de uns \\n {array_de_uns}\")\n",
        "print(f\"O tipo da minha matriz é: {array_de_uns.dtype}\")"
      ],
      "execution_count": null,
      "outputs": [
        {
          "output_type": "stream",
          "name": "stdout",
          "text": [
            "Esta é minha matriz de uns \n",
            " [[1 1]\n",
            " [1 1]\n",
            " [1 1]\n",
            " [1 1]\n",
            " [1 1]]\n",
            "O tipo da minha matriz é: int32\n"
          ]
        }
      ]
    },
    {
      "cell_type": "markdown",
      "metadata": {
        "id": "xPnn652p7w2u"
      },
      "source": [
        "##np.empty"
      ]
    },
    {
      "cell_type": "code",
      "metadata": {
        "colab": {
          "base_uri": "https://localhost:8080/"
        },
        "id": "9NfriOmQ7qGf",
        "outputId": "15f4cf5b-abe6-4d52-e507-c4e2843bfb46"
      },
      "source": [
        "array_aleatorio = np.empty((6,3), dtype = np.int16) ## Para criar uma matriz com valores aleatórios, aproximados ao vazio. \n",
        "print(f\"Este é a minha matriz aleatória \\n {array_aleatorio}\")"
      ],
      "execution_count": 51,
      "outputs": [
        {
          "output_type": "stream",
          "name": "stdout",
          "text": [
            "Este é a minha matriz aleatória \n",
            " [[ -3488 -20115  22018]\n",
            " [     0      0      0]\n",
            " [     0      0      0]\n",
            " [     0      0      0]\n",
            " [     0      0      0]\n",
            " [     0      0      0]]\n"
          ]
        }
      ]
    },
    {
      "cell_type": "markdown",
      "metadata": {
        "id": "TUn3hTa_ANQu"
      },
      "source": [
        "##np.arange"
      ]
    },
    {
      "cell_type": "code",
      "metadata": {
        "colab": {
          "base_uri": "https://localhost:8080/"
        },
        "id": "WSHjweCpARWG",
        "outputId": "9ff3360f-0b1f-4f0d-d412-e9bbf7d31a44"
      },
      "source": [
        "array_gerado = np.arange(5,100,10) ## vai criar uma matriz a partir de 5 até 100 em 2 e 2. (começo,fim,intervalo)\n",
        "print(f\"O array gerado é \\n {array_gerado}\")"
      ],
      "execution_count": 56,
      "outputs": [
        {
          "output_type": "stream",
          "name": "stdout",
          "text": [
            "O array gerado é \n",
            " [ 5 15 25 35 45 55 65 75 85 95]\n"
          ]
        }
      ]
    },
    {
      "cell_type": "code",
      "metadata": {
        "colab": {
          "base_uri": "https://localhost:8080/",
          "height": 214
        },
        "id": "MdJw8NuHBsHT",
        "outputId": "7950b4ba-01e8-4ccf-bd08-868ba537011e"
      },
      "source": [
        "#x = np.random.randint(100) ## Vai gerar um valor inteiro aleatório até 100 \n",
        "#print(x) ## é preciso printar o valor de X para que seja colocado no arange\n",
        "array_gerado = np.arange(5,10,2,dtype = np.float32).reshape(3,5) ## vai criar uma matriz a partir de 5 até o valor que foi colocado em \"X\" em 2 e 2. (começo,fim,intervalo)\n",
        "print(f\"O array gerado é \\n {array_gerado}\")"
      ],
      "execution_count": 67,
      "outputs": [
        {
          "output_type": "error",
          "ename": "ValueError",
          "evalue": "ignored",
          "traceback": [
            "\u001b[0;31m---------------------------------------------------------------------------\u001b[0m",
            "\u001b[0;31mValueError\u001b[0m                                Traceback (most recent call last)",
            "\u001b[0;32m<ipython-input-67-d341ef04ca22>\u001b[0m in \u001b[0;36m<module>\u001b[0;34m()\u001b[0m\n\u001b[1;32m      1\u001b[0m \u001b[0;31m#x = np.random.randint(100) ## Vai gerar um valor inteiro aleatório até 100\u001b[0m\u001b[0;34m\u001b[0m\u001b[0;34m\u001b[0m\u001b[0;34m\u001b[0m\u001b[0m\n\u001b[1;32m      2\u001b[0m \u001b[0;31m#print(x) ## é preciso printar o valor de X para que seja colocado no arange\u001b[0m\u001b[0;34m\u001b[0m\u001b[0;34m\u001b[0m\u001b[0;34m\u001b[0m\u001b[0m\n\u001b[0;32m----> 3\u001b[0;31m \u001b[0marray_gerado\u001b[0m \u001b[0;34m=\u001b[0m \u001b[0mnp\u001b[0m\u001b[0;34m.\u001b[0m\u001b[0marange\u001b[0m\u001b[0;34m(\u001b[0m\u001b[0;36m5\u001b[0m\u001b[0;34m,\u001b[0m\u001b[0;36m10\u001b[0m\u001b[0;34m,\u001b[0m\u001b[0;36m2\u001b[0m\u001b[0;34m,\u001b[0m\u001b[0mdtype\u001b[0m \u001b[0;34m=\u001b[0m \u001b[0mnp\u001b[0m\u001b[0;34m.\u001b[0m\u001b[0mfloat32\u001b[0m\u001b[0;34m)\u001b[0m\u001b[0;34m.\u001b[0m\u001b[0mreshape\u001b[0m\u001b[0;34m(\u001b[0m\u001b[0;36m3\u001b[0m\u001b[0;34m,\u001b[0m\u001b[0;36m5\u001b[0m\u001b[0;34m)\u001b[0m \u001b[0;31m## vai criar uma matriz a partir de 5 até o valor que foi colocado em \"X\" em 2 e 2. (começo,fim,intervalo)\u001b[0m\u001b[0;34m\u001b[0m\u001b[0;34m\u001b[0m\u001b[0m\n\u001b[0m\u001b[1;32m      4\u001b[0m \u001b[0mprint\u001b[0m\u001b[0;34m(\u001b[0m\u001b[0;34mf\"O array gerado é \\n {array_gerado}\"\u001b[0m\u001b[0;34m)\u001b[0m\u001b[0;34m\u001b[0m\u001b[0;34m\u001b[0m\u001b[0m\n",
            "\u001b[0;31mValueError\u001b[0m: cannot reshape array of size 3 into shape (3,5)"
          ]
        }
      ]
    }
  ]
}